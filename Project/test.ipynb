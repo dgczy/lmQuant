{
 "cells": [
  {
   "cell_type": "code",
<<<<<<< HEAD
   "execution_count": 3,
   "metadata": {},
   "outputs": [
    {
     "name": "stdout",
     "output_type": "stream",
     "text": [
      "2\n"
     ]
    }
   ],
   "source": [
    "print(1+1)"
   ]
  },
  {
   "cell_type": "code",
=======
>>>>>>> tsd
   "execution_count": 1,
   "metadata": {},
   "outputs": [],
   "source": [
    "import ipywidgets as widgets"
   ]
  },
  {
   "cell_type": "code",
   "execution_count": 2,
   "metadata": {},
   "outputs": [],
   "source": [
    "widgets.IntSlider()"
   ]
  },
  {
   "cell_type": "code",
   "execution_count": 2,
   "metadata": {},
   "outputs": [],
   "source": [
    "from PyQt5 import QtWidgets, QtGui\n",
    "import sys\n",
    "\n",
    "app = QtWidgets.QApplication(sys.argv)\n",
    "window = QtWidgets.QWidget();\n",
    "window.show()\n",
    "sys.exit(app.exec_())"
   ]
  },
  {
   "cell_type": "code",
   "execution_count": null,
   "metadata": {},
   "outputs": [],
   "source": [
    ""
   ]
  }
 ],
 "metadata": {
  "language_info": {
   "name": "python",
   "codemirror_mode": {
    "name": "ipython",
<<<<<<< HEAD
    "version": 3.0
   },
   "version": "3.7.4-final"
  },
  "orig_nbformat": 2.0,
=======
    "version": 3
   },
   "version": "3.7.4-final"
  },
  "orig_nbformat": 2,
>>>>>>> tsd
  "file_extension": ".py",
  "mimetype": "text/x-python",
  "name": "python",
  "npconvert_exporter": "python",
  "pygments_lexer": "ipython3",
<<<<<<< HEAD
  "version": 3.0,
=======
  "version": 3,
>>>>>>> tsd
  "kernelspec": {
   "name": "python37464bitprogramdatavirtualenv15933603a28f4019abb268061593605c",
   "display_name": "Python 3.7.4 64-bit ('ProgramData': virtualenv)"
  }
 },
 "nbformat": 4,
 "nbformat_minor": 0
}