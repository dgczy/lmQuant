{
 "cells": [
  {
   "source": [
    "import jqdatasdk\n",
    "jqdatasdk.auth(\"13695683829\",\"ssk741212\")"
   ],
   "cell_type": "code",
   "outputs": [
    {
     "output_type": "stream",
     "name": "stdout",
     "text": "auth success \n"
    }
   ],
   "metadata": {},
   "execution_count": 1
  },
  {
   "cell_type": "code",
   "execution_count": 3,
   "metadata": {},
   "outputs": [
    {
     "data": {
      "text/plain": [
       "{'total': 1000000, 'spare': 1000000}"
      ]
     },
     "execution_count": 3,
     "metadata": {},
     "output_type": "execute_result"
    }
   ],
   "source": [
    "jqdatasdk.get_query_count()"
   ]
  },
  {
   "source": [
    "import sys\n",
    "\n",
    "sys.path.append(\"../DS\")\n",
    "\n",
    "from ds import *\n",
    "from jisilu import *\n",
    "\n",
    "df=get_jsl_data(\"index_etf\")\n",
    "# print(df)\n",
    "\n",
    "csv_data= Csv(\"../Data/\")\n",
    "csv_data.save( \"index_etf\", df)"
   ],
   "cell_type": "code",
   "outputs": [
    {
     "output_type": "stream",
     "name": "stdout",
     "text": "数据引擎：运行于研究\n"
    }
   ],
   "metadata": {},
   "execution_count": 2
  },
  {
   "cell_type": "code",
   "execution_count": null,
   "metadata": {},
   "outputs": [],
   "source": []
  }
 ],
 "metadata": {
  "kernelspec": {
   "display_name": "Python 3.7.4 64-bit ('base': conda)",
   "language": "python",
   "name": "python37464bitbasecondad5f255661c6c454290a08f256a06a34d"
  },
  "language_info": {
   "codemirror_mode": {
    "name": "ipython",
    "version": 2
   },
   "file_extension": ".py",
   "mimetype": "text/x-python",
   "name": "python",
   "nbconvert_exporter": "python",
   "pygments_lexer": "ipython2",
   "version": "3.7.4-final"
  }
 },
 "nbformat": 4,
 "nbformat_minor": 0
}